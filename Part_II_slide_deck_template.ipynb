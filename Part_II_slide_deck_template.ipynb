{
 "cells": [
  {
   "cell_type": "markdown",
   "metadata": {
    "slideshow": {
     "slide_type": "slide"
    }
   },
   "source": [
    "# Ford Go Bike System-  Communicating data findings \n",
    "## by Muhammed Shittu"
   ]
  },
  {
   "cell_type": "markdown",
   "metadata": {
    "slideshow": {
     "slide_type": "slide"
    }
   },
   "source": [
    "\n",
    "\n",
    "\n",
    "## Investigation Overview\n",
    "\n",
    "\n",
    "> Most of the bike users fall between the ages of 20- 40 years. In addition, subscribers use the system heavily on work days (Monday -Friday) whereas customers also ride more on weekends, and frequently in the afternoon. Many trips concentrated around 8-9 am and 4-6 pm on work days for subscribers, yet customers tend to use more in the late afternoon around 5 pm Monday to Friday. The efficient/short period of usage for subscribers corresponds to their high concentration on rush hours Monday through Friday, indicating the use is primarily for the work commute for subscribers.\n",
    "\n",
    "\n",
    "## Dataset Overview\n",
    "\n",
    "> This dataset includes information on each ride taken in a bike-sharing program that serves the greater San Francisco Bay area"
   ]
  },
  {
   "cell_type": "code",
   "execution_count": 9,
   "metadata": {
    "slideshow": {
     "slide_type": "skip"
    }
   },
   "outputs": [],
   "source": [
    "# import all packages and set plots to be embedded inline\n",
    "import numpy as np\n",
    "import pandas as pd\n",
    "import matplotlib.pyplot as plt\n",
    "import seaborn as sb\n",
    "\n",
    "%matplotlib inline\n",
    "\n",
    "# suppress warnings from final output\n",
    "import warnings\n",
    "warnings.simplefilter(\"ignore\")"
   ]
  },
  {
   "cell_type": "code",
   "execution_count": 10,
   "metadata": {
    "slideshow": {
     "slide_type": "skip"
    }
   },
   "outputs": [
    {
     "data": {
      "text/html": [
       "<div>\n",
       "<style scoped>\n",
       "    .dataframe tbody tr th:only-of-type {\n",
       "        vertical-align: middle;\n",
       "    }\n",
       "\n",
       "    .dataframe tbody tr th {\n",
       "        vertical-align: top;\n",
       "    }\n",
       "\n",
       "    .dataframe thead th {\n",
       "        text-align: right;\n",
       "    }\n",
       "</style>\n",
       "<table border=\"1\" class=\"dataframe\">\n",
       "  <thead>\n",
       "    <tr style=\"text-align: right;\">\n",
       "      <th></th>\n",
       "      <th>duration_sec</th>\n",
       "      <th>start_time</th>\n",
       "      <th>end_time</th>\n",
       "      <th>start_station_id</th>\n",
       "      <th>start_station_name</th>\n",
       "      <th>start_station_latitude</th>\n",
       "      <th>start_station_longitude</th>\n",
       "      <th>end_station_id</th>\n",
       "      <th>end_station_name</th>\n",
       "      <th>end_station_latitude</th>\n",
       "      <th>...</th>\n",
       "      <th>member_gender</th>\n",
       "      <th>bike_share_for_all_trip</th>\n",
       "      <th>member_age</th>\n",
       "      <th>start_day</th>\n",
       "      <th>hour</th>\n",
       "      <th>start_month</th>\n",
       "      <th>end_month</th>\n",
       "      <th>end_day</th>\n",
       "      <th>duration_min</th>\n",
       "      <th>distance_km</th>\n",
       "    </tr>\n",
       "  </thead>\n",
       "  <tbody>\n",
       "    <tr>\n",
       "      <th>0</th>\n",
       "      <td>52185</td>\n",
       "      <td>2019-02-28 17:32:10.145</td>\n",
       "      <td>2019-03-01 08:01:55.975</td>\n",
       "      <td>21.0</td>\n",
       "      <td>Montgomery St BART Station (Market St at 2nd St)</td>\n",
       "      <td>37.789625</td>\n",
       "      <td>-122.400811</td>\n",
       "      <td>13.0</td>\n",
       "      <td>Commercial St at Montgomery St</td>\n",
       "      <td>37.794231</td>\n",
       "      <td>...</td>\n",
       "      <td>Male</td>\n",
       "      <td>No</td>\n",
       "      <td>35</td>\n",
       "      <td>Thu</td>\n",
       "      <td>17</td>\n",
       "      <td>February</td>\n",
       "      <td>March</td>\n",
       "      <td>Fri</td>\n",
       "      <td>869</td>\n",
       "      <td>0.544709</td>\n",
       "    </tr>\n",
       "    <tr>\n",
       "      <th>1</th>\n",
       "      <td>61854</td>\n",
       "      <td>2019-02-28 12:13:13.218</td>\n",
       "      <td>2019-03-01 05:24:08.146</td>\n",
       "      <td>86.0</td>\n",
       "      <td>Market St at Dolores St</td>\n",
       "      <td>37.769305</td>\n",
       "      <td>-122.426826</td>\n",
       "      <td>3.0</td>\n",
       "      <td>Powell St BART Station (Market St at 4th St)</td>\n",
       "      <td>37.786375</td>\n",
       "      <td>...</td>\n",
       "      <td>Male</td>\n",
       "      <td>No</td>\n",
       "      <td>47</td>\n",
       "      <td>Thu</td>\n",
       "      <td>12</td>\n",
       "      <td>February</td>\n",
       "      <td>March</td>\n",
       "      <td>Fri</td>\n",
       "      <td>1030</td>\n",
       "      <td>2.704545</td>\n",
       "    </tr>\n",
       "    <tr>\n",
       "      <th>2</th>\n",
       "      <td>36490</td>\n",
       "      <td>2019-02-28 17:54:26.010</td>\n",
       "      <td>2019-03-01 04:02:36.842</td>\n",
       "      <td>375.0</td>\n",
       "      <td>Grove St at Masonic Ave</td>\n",
       "      <td>37.774836</td>\n",
       "      <td>-122.446546</td>\n",
       "      <td>70.0</td>\n",
       "      <td>Central Ave at Fell St</td>\n",
       "      <td>37.773311</td>\n",
       "      <td>...</td>\n",
       "      <td>Other</td>\n",
       "      <td>No</td>\n",
       "      <td>30</td>\n",
       "      <td>Thu</td>\n",
       "      <td>17</td>\n",
       "      <td>February</td>\n",
       "      <td>March</td>\n",
       "      <td>Fri</td>\n",
       "      <td>608</td>\n",
       "      <td>0.260739</td>\n",
       "    </tr>\n",
       "    <tr>\n",
       "      <th>3</th>\n",
       "      <td>1585</td>\n",
       "      <td>2019-02-28 23:54:18.549</td>\n",
       "      <td>2019-03-01 00:20:44.074</td>\n",
       "      <td>7.0</td>\n",
       "      <td>Frank H Ogawa Plaza</td>\n",
       "      <td>37.804562</td>\n",
       "      <td>-122.271738</td>\n",
       "      <td>222.0</td>\n",
       "      <td>10th Ave at E 15th St</td>\n",
       "      <td>37.792714</td>\n",
       "      <td>...</td>\n",
       "      <td>Male</td>\n",
       "      <td>Yes</td>\n",
       "      <td>45</td>\n",
       "      <td>Thu</td>\n",
       "      <td>23</td>\n",
       "      <td>February</td>\n",
       "      <td>March</td>\n",
       "      <td>Fri</td>\n",
       "      <td>26</td>\n",
       "      <td>2.409301</td>\n",
       "    </tr>\n",
       "    <tr>\n",
       "      <th>4</th>\n",
       "      <td>1793</td>\n",
       "      <td>2019-02-28 23:49:58.632</td>\n",
       "      <td>2019-03-01 00:19:51.760</td>\n",
       "      <td>93.0</td>\n",
       "      <td>4th St at Mission Bay Blvd S</td>\n",
       "      <td>37.770407</td>\n",
       "      <td>-122.391198</td>\n",
       "      <td>323.0</td>\n",
       "      <td>Broadway at Kearny</td>\n",
       "      <td>37.798014</td>\n",
       "      <td>...</td>\n",
       "      <td>Male</td>\n",
       "      <td>No</td>\n",
       "      <td>60</td>\n",
       "      <td>Thu</td>\n",
       "      <td>23</td>\n",
       "      <td>February</td>\n",
       "      <td>March</td>\n",
       "      <td>Fri</td>\n",
       "      <td>29</td>\n",
       "      <td>3.332203</td>\n",
       "    </tr>\n",
       "  </tbody>\n",
       "</table>\n",
       "<p>5 rows × 24 columns</p>\n",
       "</div>"
      ],
      "text/plain": [
       "   duration_sec               start_time                 end_time  \\\n",
       "0         52185  2019-02-28 17:32:10.145  2019-03-01 08:01:55.975   \n",
       "1         61854  2019-02-28 12:13:13.218  2019-03-01 05:24:08.146   \n",
       "2         36490  2019-02-28 17:54:26.010  2019-03-01 04:02:36.842   \n",
       "3          1585  2019-02-28 23:54:18.549  2019-03-01 00:20:44.074   \n",
       "4          1793  2019-02-28 23:49:58.632  2019-03-01 00:19:51.760   \n",
       "\n",
       "   start_station_id                                start_station_name  \\\n",
       "0              21.0  Montgomery St BART Station (Market St at 2nd St)   \n",
       "1              86.0                           Market St at Dolores St   \n",
       "2             375.0                           Grove St at Masonic Ave   \n",
       "3               7.0                               Frank H Ogawa Plaza   \n",
       "4              93.0                      4th St at Mission Bay Blvd S   \n",
       "\n",
       "   start_station_latitude  start_station_longitude  end_station_id  \\\n",
       "0               37.789625              -122.400811            13.0   \n",
       "1               37.769305              -122.426826             3.0   \n",
       "2               37.774836              -122.446546            70.0   \n",
       "3               37.804562              -122.271738           222.0   \n",
       "4               37.770407              -122.391198           323.0   \n",
       "\n",
       "                               end_station_name  end_station_latitude  \\\n",
       "0                Commercial St at Montgomery St             37.794231   \n",
       "1  Powell St BART Station (Market St at 4th St)             37.786375   \n",
       "2                        Central Ave at Fell St             37.773311   \n",
       "3                         10th Ave at E 15th St             37.792714   \n",
       "4                            Broadway at Kearny             37.798014   \n",
       "\n",
       "      ...      member_gender  bike_share_for_all_trip member_age  start_day  \\\n",
       "0     ...               Male                       No         35        Thu   \n",
       "1     ...               Male                       No         47        Thu   \n",
       "2     ...              Other                       No         30        Thu   \n",
       "3     ...               Male                      Yes         45        Thu   \n",
       "4     ...               Male                       No         60        Thu   \n",
       "\n",
       "  hour start_month  end_month end_day  duration_min distance_km  \n",
       "0   17    February      March     Fri           869    0.544709  \n",
       "1   12    February      March     Fri          1030    2.704545  \n",
       "2   17    February      March     Fri           608    0.260739  \n",
       "3   23    February      March     Fri            26    2.409301  \n",
       "4   23    February      March     Fri            29    3.332203  \n",
       "\n",
       "[5 rows x 24 columns]"
      ]
     },
     "execution_count": 10,
     "metadata": {},
     "output_type": "execute_result"
    }
   ],
   "source": [
    "# load in the dataset into a pandas dataframe\n",
    "df_clean = pd.read_csv('ford_gobike_clean.csv')\n",
    "df_clean.head()\n"
   ]
  },
  {
   "cell_type": "markdown",
   "metadata": {
    "slideshow": {
     "slide_type": "notes"
    }
   },
   "source": [
    "> Note that the above cells have been set as \"Skip\"-type slides. That means\n",
    "that when the notebook is rendered as http slides, those cells won't show up."
   ]
  },
  {
   "cell_type": "markdown",
   "metadata": {
    "slideshow": {
     "slide_type": "slide"
    }
   },
   "source": [
    "## Age of Biker users\n",
    "> Not surprisingly, most of the biker users falls between ages of 20 years to 40 years, and the highest users overall fall between the ages of 30 - 40 years of age. this shows that most of the bike users are of working class age.\n"
   ]
  },
  {
   "cell_type": "code",
   "execution_count": 37,
   "metadata": {
    "slideshow": {
     "slide_type": "subslide"
    }
   },
   "outputs": [
    {
     "data": {
      "image/png": "[encoded data removed]",
      "text/plain": [
       "<matplotlib.figure.Figure at 0x7fb7361b0470>"
      ]
     },
     "metadata": {
      "needs_background": "light"
     },
     "output_type": "display_data"
    }
   ],
   "source": [
    "# Age of the bike users\n",
    "binsize = 10\n",
    "bins = np.arange(0, df_clean['member_age'].max()+binsize, binsize)\n",
    "\n",
    "plt.figure(figsize=[8, 5])\n",
    "plt.hist(data = df_clean, x = 'member_age', bins = bins)\n",
    "plt.xlabel('Age(years)')\n",
    "plt.ylabel('Number of Bike Trips');\n",
    "plt.title('Ford Bike users by Age')\n",
    "plt.show()"
   ]
  },
  {
   "cell_type": "markdown",
   "metadata": {
    "collapsed": true,
    "slideshow": {
     "slide_type": "slide"
    }
   },
   "source": [
    "## Highlighting the proportion of the user types\n",
    "\n",
    "> The chart showed that most of the bike riders are subscribers(91%), and only few of the bike riders are customers. Further insight will be generated consquently to understand why there are more subscribers than customers "
   ]
  },
  {
   "cell_type": "code",
   "execution_count": 4,
   "metadata": {
    "slideshow": {
     "slide_type": "subslide"
    }
   },
   "outputs": [
    {
     "data": {
      "image/png": "[encoded data removed]",
      "text/plain": [
       "<matplotlib.figure.Figure at 0x7fb73f58cf28>"
      ]
     },
     "metadata": {},
     "output_type": "display_data"
    }
   ],
   "source": [
    "#Perentage of Customers and Subscribers\n",
    "fig, ax = plt.subplots(figsize=(6, 6))\n",
    "sorted_counts = df_clean['user_type'].value_counts()\n",
    "plt.pie(sorted_counts, labels = sorted_counts.index, startangle = 30, counterclock = False,autopct='%.1f%%');\n",
    "plt.axis('square');\n",
    "plt.title('Percentage of Subscribers and Customers');\n"
   ]
  },
  {
   "cell_type": "markdown",
   "metadata": {
    "collapsed": true,
    "slideshow": {
     "slide_type": "slide"
    }
   },
   "source": [
    "## Relationship between bike usage during the days of the week for different user types\n",
    "\n",
    "> The chart shows that most the bike users are subscribers, and most users drive their bike during the weekdays, and they msotly drive less during the weekends. The chart also showed that subscribers mostly ride their bike less during the weekends, on the other hand customers drive at almost the same during the weekdays and weekends. It can be deduced that most of the subscribers used their bike to commute to work mostly."
   ]
  },
  {
   "cell_type": "code",
   "execution_count": 14,
   "metadata": {
    "slideshow": {
     "slide_type": "subslide"
    }
   },
   "outputs": [
    {
     "data": {
      "image/png": "[encoded data removed]",
      "text/plain": [
       "<matplotlib.figure.Figure at 0x7f1a1a613048>"
      ]
     },
     "metadata": {
      "needs_background": "light"
     },
     "output_type": "display_data"
    }
   ],
   "source": [
    "# Relationship between user type and days of the week\n",
    "plt.figure(figsize = [8, 8])\n",
    "type_order = df_clean['start_day'].value_counts().index\n",
    "sb.countplot(data=df_clean, x='start_day', hue='user_type', order=type_order);\n",
    "plt.xlabel('Days of Week');\n",
    "plt.ylabel('Number of bike trips');\n",
    "plt.title('Relationship between usertype and days of the Week');\n"
   ]
  },
  {
   "cell_type": "markdown",
   "metadata": {
    "collapsed": true,
    "slideshow": {
     "slide_type": "slide"
    }
   },
   "source": [
    "## User types (Subscriber and Customer) bike usage time and days of the week\n",
    "\n",
    "> It can be deduced from the chart that most trips were taking between 8am - 9am in the morning, and during the evening time of 5pm - 6pm. It can also be ascertain from the chart that the subscribers mostly ride bikes mostly during the weekdays (Monday - Friday) and frequently drive during the weekends. it can be said that most of the subscribers msotly ride their backs to their workplaces. On the other hand, the customers drive their bikes on both weekdays and weekends, on weekdays, the customer peak of driving is mostly around 8am and late in the evening around 5-6pm. During the weekends, the customers mostly drive their bikes from 10am - 4pm. there is some variations between the usage of bike by the subscribers and customers most especially during the weekends."
   ]
  },
  {
   "cell_type": "code",
   "execution_count": 38,
   "metadata": {
    "slideshow": {
     "slide_type": "subslide"
    }
   },
   "outputs": [
    {
     "data": {
      "text/plain": [
       "Text(0.5,0.98,'Hourly Usage during Weekdays for Customers and Subscribers')"
      ]
     },
     "execution_count": 38,
     "metadata": {},
     "output_type": "execute_result"
    },
    {
     "data": {
      "image/png": "[encoded data removed]",
      "text/plain": [
       "<matplotlib.figure.Figure at 0x7fb73c8f1898>"
      ]
     },
     "metadata": {
      "needs_background": "light"
     },
     "output_type": "display_data"
    }
   ],
   "source": [
    "\n",
    "\n",
    "plt.figure(figsize = (16,8))\n",
    "plt.subplot(2, 1, 1)\n",
    "customers = df_clean.query('user_type == \"Customer\"')\n",
    "ct_counts = customers.groupby(['start_day', 'hour']).size()\n",
    "ct_counts = ct_counts.reset_index(name='count')\n",
    "ct_counts = ct_counts.pivot(index='start_day', columns='hour', values='count')\n",
    "sb.heatmap(ct_counts, cmap='YlGnBu');\n",
    "plt.title('Customer', loc='right');\n",
    "plt.xlabel('Hour of Day');\n",
    "plt.ylabel('Day of Week');\n",
    "\n",
    "plt.subplot(2, 1, 2)\n",
    "subscribers = df_clean.query('user_type == \"Subscriber\"')\n",
    "st_counts = subscribers.groupby(['start_day', 'hour']).size()\n",
    "st_counts = st_counts.reset_index(name='count')\n",
    "st_counts = st_counts.pivot(index='start_day', columns='hour', values='count')\n",
    "sb.heatmap(st_counts, cmap='YlGnBu');\n",
    "plt.title('Subscriber', loc='right');\n",
    "plt.xlabel('Hours of Day (hour)');\n",
    "plt.ylabel('Day of Week');\n",
    "plt.suptitle('Hourly Usage during Weekdays for Customers and Subscribers')\n"
   ]
  },
  {
   "cell_type": "markdown",
   "metadata": {
    "slideshow": {
     "slide_type": "skip"
    }
   },
   "source": [
    "> In the classroom workspace, the generated HTML slideshow will be placed in the home folder. \n",
    "\n",
    "> In local machines, the command above should open a tab in your web browser where you can scroll through your presentation. Sub-slides can be accessed by pressing 'down' when viewing its parent slide. Make sure you remove all of the quote-formatted guide notes like this one before you finish your presentation! At last, you can stop the Kernel. "
   ]
  },
  {
   "cell_type": "markdown",
   "metadata": {},
   "source": [
    "### Submission\n",
    "If you are using classroom workspace, you can choose from the following two ways of submission:\n",
    "\n",
    "1. **Submit from the workspace**. Make sure you have removed the example project from the /home/workspace directory. You must submit the following files:\n",
    "   - Part_I_notebook.ipynb\n",
    "   - Part_I_notebook.html or pdf\n",
    "   - Part_II_notebook.ipynb\n",
    "   - Part_I_slides.html\n",
    "   - README.md\n",
    "   - dataset (optional)\n",
    "\n",
    "\n",
    "2. **Submit a zip file on the last page of this project lesson**. In this case, open the Jupyter terminal and run the command below to generate a ZIP file. \n",
    "```bash\n",
    "zip -r my_project.zip .\n",
    "```\n",
    "The command abobve will ZIP every file present in your /home/workspace directory. Next, you can download the zip to your local, and follow the instructions on the last page of this project lesson.\n"
   ]
  },
  {
   "cell_type": "code",
   "execution_count": null,
   "metadata": {},
   "outputs": [],
   "source": []
  }
 ],
 "metadata": {
  "celltoolbar": "Slideshow",
  "kernelspec": {
   "display_name": "Python 3",
   "language": "python",
   "name": "python3"
  },
  "language_info": {
   "codemirror_mode": {
    "name": "ipython",
    "version": 3
   },
   "file_extension": ".py",
   "mimetype": "text/x-python",
   "name": "python",
   "nbconvert_exporter": "python",
   "pygments_lexer": "ipython3",
   "version": "3.6.3"
  }
 },
 "nbformat": 4,
 "nbformat_minor": 2
}
